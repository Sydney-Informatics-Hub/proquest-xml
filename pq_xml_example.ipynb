{
 "cells": [
  {
   "cell_type": "code",
   "execution_count": 1,
   "metadata": {},
   "outputs": [],
   "source": [
    "import pandas as pd\n",
    "\n",
    "from proquest_xml import ProquestXml, create_dataframe"
   ]
  },
  {
   "cell_type": "markdown",
   "metadata": {},
   "source": [
    "## Read XML and get basic details"
   ]
  },
  {
   "cell_type": "code",
   "execution_count": 2,
   "metadata": {},
   "outputs": [
    {
     "name": "stdout",
     "output_type": "stream",
     "text": [
      "ProquestXml(id=868650799, title='Million-dollar ...')\n",
      "868650799 Million-dollar refugee family caught in perpetual detention\n"
     ]
    }
   ],
   "source": [
    "pq_xml = ProquestXml('data/hr_sample/868650799.xml')\n",
    "print(pq_xml)\n",
    "print(pq_xml.id, pq_xml.get_article_title())"
   ]
  },
  {
   "cell_type": "markdown",
   "metadata": {},
   "source": [
    "## Read multiple documents and create a dataframe"
   ]
  },
  {
   "cell_type": "code",
   "execution_count": 3,
   "metadata": {},
   "outputs": [
    {
     "name": "stdout",
     "output_type": "stream",
     "text": [
      "(300, 10)\n"
     ]
    },
    {
     "data": {
      "text/plain": "          id                                              title  \\\n0  879751809  Army officer claims stutter discrimination - E...   \n1  908016581  Aboriginal call for intervention on health nig...   \n2  881503793  Amnesty says policy forcing Aborigines off the...   \n3  914325855                    There will be women in foxholes   \n4  904162894               Afghan wins hearing into deportation   \n\n  date_published            publication author1_last_name author1_first_name  \\\n0     2011-07-29         The Australian          Callinan               Rory   \n1     2011-12-06         The Australian             Puddy            Rebecca   \n2     2011-08-09  Sydney Morning Herald            Lester                Tim   \n3     2012-01-07  Sydney Morning Herald              Snow            Deborah   \n4     2011-11-17  Sydney Morning Herald           Needham             Kirsty   \n\n  author1_full_name                                      other_authors  \\\n0     RORY CALLINAN                                                 []   \n1     REBECCA PUDDY                                                 []   \n2        Tim Lester  [{'order': '2', 'last_name': 'Willingham', 'fi...   \n3      Deborah Snow                                                 []   \n4    Kirsty Needham                                                 []   \n\n  article_type                                               text  \n0         News   A STUTTERING army officer has lodged a discri...  \n1         News   HUNDREDS of different laws across the country...  \n2         News   GOVERNMENT policies are driving Australian Ab...  \n3         News   \"I was one of the first women to do the job I...  \n4         News   A CHALLENGE to the first forced deportation o...  ",
      "text/html": "<div>\n<style scoped>\n    .dataframe tbody tr th:only-of-type {\n        vertical-align: middle;\n    }\n\n    .dataframe tbody tr th {\n        vertical-align: top;\n    }\n\n    .dataframe thead th {\n        text-align: right;\n    }\n</style>\n<table border=\"1\" class=\"dataframe\">\n  <thead>\n    <tr style=\"text-align: right;\">\n      <th></th>\n      <th>id</th>\n      <th>title</th>\n      <th>date_published</th>\n      <th>publication</th>\n      <th>author1_last_name</th>\n      <th>author1_first_name</th>\n      <th>author1_full_name</th>\n      <th>other_authors</th>\n      <th>article_type</th>\n      <th>text</th>\n    </tr>\n  </thead>\n  <tbody>\n    <tr>\n      <th>0</th>\n      <td>879751809</td>\n      <td>Army officer claims stutter discrimination - E...</td>\n      <td>2011-07-29</td>\n      <td>The Australian</td>\n      <td>Callinan</td>\n      <td>Rory</td>\n      <td>RORY CALLINAN</td>\n      <td>[]</td>\n      <td>News</td>\n      <td>A STUTTERING army officer has lodged a discri...</td>\n    </tr>\n    <tr>\n      <th>1</th>\n      <td>908016581</td>\n      <td>Aboriginal call for intervention on health nig...</td>\n      <td>2011-12-06</td>\n      <td>The Australian</td>\n      <td>Puddy</td>\n      <td>Rebecca</td>\n      <td>REBECCA PUDDY</td>\n      <td>[]</td>\n      <td>News</td>\n      <td>HUNDREDS of different laws across the country...</td>\n    </tr>\n    <tr>\n      <th>2</th>\n      <td>881503793</td>\n      <td>Amnesty says policy forcing Aborigines off the...</td>\n      <td>2011-08-09</td>\n      <td>Sydney Morning Herald</td>\n      <td>Lester</td>\n      <td>Tim</td>\n      <td>Tim Lester</td>\n      <td>[{'order': '2', 'last_name': 'Willingham', 'fi...</td>\n      <td>News</td>\n      <td>GOVERNMENT policies are driving Australian Ab...</td>\n    </tr>\n    <tr>\n      <th>3</th>\n      <td>914325855</td>\n      <td>There will be women in foxholes</td>\n      <td>2012-01-07</td>\n      <td>Sydney Morning Herald</td>\n      <td>Snow</td>\n      <td>Deborah</td>\n      <td>Deborah Snow</td>\n      <td>[]</td>\n      <td>News</td>\n      <td>\"I was one of the first women to do the job I...</td>\n    </tr>\n    <tr>\n      <th>4</th>\n      <td>904162894</td>\n      <td>Afghan wins hearing into deportation</td>\n      <td>2011-11-17</td>\n      <td>Sydney Morning Herald</td>\n      <td>Needham</td>\n      <td>Kirsty</td>\n      <td>Kirsty Needham</td>\n      <td>[]</td>\n      <td>News</td>\n      <td>A CHALLENGE to the first forced deportation o...</td>\n    </tr>\n  </tbody>\n</table>\n</div>"
     },
     "execution_count": 3,
     "metadata": {},
     "output_type": "execute_result"
    }
   ],
   "source": [
    "import glob\n",
    "\n",
    "filenames = glob.glob('data/hr_sample/*.xml')\n",
    "docs = {doc.id: doc for doc in \n",
    "        (ProquestXml(f) for f in filenames)}\n",
    "df = create_dataframe(docs.values())\n",
    "\n",
    "print(df.shape)\n",
    "df.head()"
   ]
  },
  {
   "cell_type": "markdown",
   "metadata": {},
   "source": [
    "\n",
    "Documents where author last name is missing:"
   ]
  },
  {
   "cell_type": "code",
   "execution_count": 4,
   "metadata": {},
   "outputs": [
    {
     "name": "stdout",
     "output_type": "stream",
     "text": [
      "26\n"
     ]
    },
    {
     "data": {
      "text/plain": "           id    author1_full_name other_authors\n24  922982413                 None            []\n35  904231282  AINSLIE VAN ONSELEN            []\n40  925628445                 None            []\n51  963690004                 None            []\n56  897028214                 None            []",
      "text/html": "<div>\n<style scoped>\n    .dataframe tbody tr th:only-of-type {\n        vertical-align: middle;\n    }\n\n    .dataframe tbody tr th {\n        vertical-align: top;\n    }\n\n    .dataframe thead th {\n        text-align: right;\n    }\n</style>\n<table border=\"1\" class=\"dataframe\">\n  <thead>\n    <tr style=\"text-align: right;\">\n      <th></th>\n      <th>id</th>\n      <th>author1_full_name</th>\n      <th>other_authors</th>\n    </tr>\n  </thead>\n  <tbody>\n    <tr>\n      <th>24</th>\n      <td>922982413</td>\n      <td>None</td>\n      <td>[]</td>\n    </tr>\n    <tr>\n      <th>35</th>\n      <td>904231282</td>\n      <td>AINSLIE VAN ONSELEN</td>\n      <td>[]</td>\n    </tr>\n    <tr>\n      <th>40</th>\n      <td>925628445</td>\n      <td>None</td>\n      <td>[]</td>\n    </tr>\n    <tr>\n      <th>51</th>\n      <td>963690004</td>\n      <td>None</td>\n      <td>[]</td>\n    </tr>\n    <tr>\n      <th>56</th>\n      <td>897028214</td>\n      <td>None</td>\n      <td>[]</td>\n    </tr>\n  </tbody>\n</table>\n</div>"
     },
     "execution_count": 4,
     "metadata": {},
     "output_type": "execute_result"
    }
   ],
   "source": [
    "missing_last_name = pd.isnull(df['author1_last_name'])\n",
    "print(missing_last_name.sum())\n",
    "df.loc[missing_last_name, \n",
    "       ['id', 'author1_full_name', 'other_authors']].head()"
   ]
  },
  {
   "cell_type": "markdown",
   "metadata": {},
   "source": [
    "Documents with multiple authors:"
   ]
  },
  {
   "cell_type": "code",
   "execution_count": 5,
   "metadata": {},
   "outputs": [
    {
     "data": {
      "text/plain": "0    287\n1     10\n3      2\n2      1\nName: other_authors, dtype: int64"
     },
     "execution_count": 5,
     "metadata": {},
     "output_type": "execute_result"
    }
   ],
   "source": [
    "df['other_authors'].map(len).value_counts()"
   ]
  },
  {
   "cell_type": "markdown",
   "metadata": {},
   "source": [
    "Some of these documents seem to have no contributor info attached (I looked one of these up and the article came from AAP, a newswire, and had no byline). Others have contributor info but for whatever reason the name has not been separated into first name and last name in the data."
   ]
  },
  {
   "cell_type": "code",
   "execution_count": 6,
   "metadata": {},
   "outputs": [
    {
     "data": {
      "text/plain": "False"
     },
     "execution_count": 6,
     "metadata": {},
     "output_type": "execute_result"
    }
   ],
   "source": [
    "'Contributor' in docs['922982413'].get('Obj')"
   ]
  },
  {
   "cell_type": "code",
   "execution_count": 7,
   "metadata": {},
   "outputs": [
    {
     "data": {
      "text/plain": "OrderedDict([('Contributor',\n              OrderedDict([('@ContribOrder', '1'),\n                           ('Author',\n                            OrderedDict([('DisplayForm',\n                                          'AINSLIE VAN ONSELEN'),\n                                         ('OriginalFormAtt',\n                                          OrderedDict([('@ContribOrigin',\n                                                        'pqauth'),\n                                                       ('OriginalForm',\n                                                        'AINSLIE VAN ONSELEN')]))]))]))])"
     },
     "execution_count": 7,
     "metadata": {},
     "output_type": "execute_result"
    }
   ],
   "source": [
    "docs['904231282'].get('Obj/Contributors')"
   ]
  },
  {
   "cell_type": "markdown",
   "metadata": {},
   "source": [
    "You can include extra fields in the dataframe by specifying their path in the nested structure, or providing a function that pulls them out of the object (either an existing method like `get_terms`, or a custom function):"
   ]
  },
  {
   "cell_type": "code",
   "execution_count": 8,
   "metadata": {},
   "outputs": [
    {
     "data": {
      "text/plain": "          id                                              title  \\\n0  868650799  Million-dollar refugee family caught in perpet...   \n1  879751809  Army officer claims stutter discrimination - E...   \n2  908016581  Aboriginal call for intervention on health nig...   \n3  881503793  Amnesty says policy forcing Aborigines off the...   \n4  914325855                    There will be women in foxholes   \n\n  date_published            publication author1_last_name author1_first_name  \\\n0     2011-05-27         The Australian             Maley               Paul   \n1     2011-07-29         The Australian          Callinan               Rory   \n2     2011-12-06         The Australian             Puddy            Rebecca   \n3     2011-08-09  Sydney Morning Herald            Lester                Tim   \n4     2012-01-07  Sydney Morning Herald              Snow            Deborah   \n\n  author1_full_name                                      other_authors  \\\n0        Paul Maley                                                 []   \n1     RORY CALLINAN                                                 []   \n2     REBECCA PUDDY                                                 []   \n3        Tim Lester  [{'order': '2', 'last_name': 'Willingham', 'fi...   \n4      Deborah Snow                                                 []   \n\n  article_type                                               text  \\\n0         News   THEY are Australia's most expensive refugees....   \n1         News   A STUTTERING army officer has lodged a discri...   \n2         News   HUNDREDS of different laws across the country...   \n3         News   GOVERNMENT policies are driving Australian Ab...   \n4         News   \"I was one of the first women to do the job I...   \n\n                                           copyright  languages  \\\n0   (c) News Limited Australia. All rights reserved.  [English]   \n1   (c) News Limited Australia. All rights reserved.  [English]   \n2   (c) News Limited Australia. All rights reserved.  [English]   \n3  (Copyright (c) 2011 Fairfax Media Publications...  [English]   \n4  (Copyright (c) 2012 Fairfax Media Publications...  [English]   \n\n                                          terms  \n0                          [Immigration policy]  \n1  [Human rights, Discrimination, Armed forces]  \n2                [Native peoples, Intervention]  \n3   [Native peoples, Infant mortality, Housing]  \n4                      [Armed forces, Violence]  ",
      "text/html": "<div>\n<style scoped>\n    .dataframe tbody tr th:only-of-type {\n        vertical-align: middle;\n    }\n\n    .dataframe tbody tr th {\n        vertical-align: top;\n    }\n\n    .dataframe thead th {\n        text-align: right;\n    }\n</style>\n<table border=\"1\" class=\"dataframe\">\n  <thead>\n    <tr style=\"text-align: right;\">\n      <th></th>\n      <th>id</th>\n      <th>title</th>\n      <th>date_published</th>\n      <th>publication</th>\n      <th>author1_last_name</th>\n      <th>author1_first_name</th>\n      <th>author1_full_name</th>\n      <th>other_authors</th>\n      <th>article_type</th>\n      <th>text</th>\n      <th>copyright</th>\n      <th>languages</th>\n      <th>terms</th>\n    </tr>\n  </thead>\n  <tbody>\n    <tr>\n      <th>0</th>\n      <td>868650799</td>\n      <td>Million-dollar refugee family caught in perpet...</td>\n      <td>2011-05-27</td>\n      <td>The Australian</td>\n      <td>Maley</td>\n      <td>Paul</td>\n      <td>Paul Maley</td>\n      <td>[]</td>\n      <td>News</td>\n      <td>THEY are Australia's most expensive refugees....</td>\n      <td>(c) News Limited Australia. All rights reserved.</td>\n      <td>[English]</td>\n      <td>[Immigration policy]</td>\n    </tr>\n    <tr>\n      <th>1</th>\n      <td>879751809</td>\n      <td>Army officer claims stutter discrimination - E...</td>\n      <td>2011-07-29</td>\n      <td>The Australian</td>\n      <td>Callinan</td>\n      <td>Rory</td>\n      <td>RORY CALLINAN</td>\n      <td>[]</td>\n      <td>News</td>\n      <td>A STUTTERING army officer has lodged a discri...</td>\n      <td>(c) News Limited Australia. All rights reserved.</td>\n      <td>[English]</td>\n      <td>[Human rights, Discrimination, Armed forces]</td>\n    </tr>\n    <tr>\n      <th>2</th>\n      <td>908016581</td>\n      <td>Aboriginal call for intervention on health nig...</td>\n      <td>2011-12-06</td>\n      <td>The Australian</td>\n      <td>Puddy</td>\n      <td>Rebecca</td>\n      <td>REBECCA PUDDY</td>\n      <td>[]</td>\n      <td>News</td>\n      <td>HUNDREDS of different laws across the country...</td>\n      <td>(c) News Limited Australia. All rights reserved.</td>\n      <td>[English]</td>\n      <td>[Native peoples, Intervention]</td>\n    </tr>\n    <tr>\n      <th>3</th>\n      <td>881503793</td>\n      <td>Amnesty says policy forcing Aborigines off the...</td>\n      <td>2011-08-09</td>\n      <td>Sydney Morning Herald</td>\n      <td>Lester</td>\n      <td>Tim</td>\n      <td>Tim Lester</td>\n      <td>[{'order': '2', 'last_name': 'Willingham', 'fi...</td>\n      <td>News</td>\n      <td>GOVERNMENT policies are driving Australian Ab...</td>\n      <td>(Copyright (c) 2011 Fairfax Media Publications...</td>\n      <td>[English]</td>\n      <td>[Native peoples, Infant mortality, Housing]</td>\n    </tr>\n    <tr>\n      <th>4</th>\n      <td>914325855</td>\n      <td>There will be women in foxholes</td>\n      <td>2012-01-07</td>\n      <td>Sydney Morning Herald</td>\n      <td>Snow</td>\n      <td>Deborah</td>\n      <td>Deborah Snow</td>\n      <td>[]</td>\n      <td>News</td>\n      <td>\"I was one of the first women to do the job I...</td>\n      <td>(Copyright (c) 2012 Fairfax Media Publications...</td>\n      <td>[English]</td>\n      <td>[Armed forces, Violence]</td>\n    </tr>\n  </tbody>\n</table>\n</div>"
     },
     "execution_count": 8,
     "metadata": {},
     "output_type": "execute_result"
    }
   ],
   "source": [
    "def get_language(doc):\n",
    "    lang_info = doc.get('Obj/Language')\n",
    "    languages = []\n",
    "    for entry in lang_info:\n",
    "        if 'RawLang' in entry:\n",
    "            languages.append(entry['RawLang'])\n",
    "    return languages\n",
    "\n",
    "extra_df = create_dataframe(\n",
    "    [pq_xml] + list(docs.values()), # Some docs don't have the subject field so adding in pq_xml\n",
    "    extra_fields={\n",
    "        'copyright': 'Obj/Copyright/CopyrightData',\n",
    "        'languages': get_language,\n",
    "        'terms': ProquestXml.get_terms\n",
    "    })\n",
    "\n",
    "extra_df.head()"
   ]
  },
  {
   "cell_type": "markdown",
   "metadata": {},
   "source": [
    "## Other features"
   ]
  },
  {
   "cell_type": "markdown",
   "metadata": {},
   "source": [
    "Allows item lookup like a dictionary:"
   ]
  },
  {
   "cell_type": "code",
   "execution_count": 9,
   "metadata": {},
   "outputs": [
    {
     "data": {
      "text/plain": "'868650799'"
     },
     "execution_count": 9,
     "metadata": {},
     "output_type": "execute_result"
    }
   ],
   "source": [
    "pq_xml['GOID']"
   ]
  },
  {
   "cell_type": "markdown",
   "metadata": {},
   "source": [
    "Uses the `dpath` module to allow easy access into nested dictionaries and some basic searching:"
   ]
  },
  {
   "cell_type": "code",
   "execution_count": 10,
   "metadata": {},
   "outputs": [
    {
     "data": {
      "text/plain": "'The Australian'"
     },
     "execution_count": 10,
     "metadata": {},
     "output_type": "execute_result"
    }
   ],
   "source": [
    "pq_xml.get('DFS/PubFrosting/Title')"
   ]
  },
  {
   "cell_type": "code",
   "execution_count": 11,
   "metadata": {},
   "outputs": [
    {
     "data": {
      "text/plain": "{'DFS': OrderedDict([('PubFrosting',\n               OrderedDict([('Title', 'The Australian'),\n                            ('SortTitle', 'Australian The'),\n                            ('CurrentTitle',\n                             OrderedDict([('Title', 'The Australian'),\n                                          ('SortTitle', 'Australian The'),\n                                          ('Qualifier', 'Canberra, A.C.T.'),\n                                          ('EndIssueDate', '99991231'),\n                                          ('Locators',\n                                           OrderedDict([('Locator',\n                                                         [OrderedDict([('@Type',\n                                                                        'PQPMID'),\n                                                                       ('Name',\n                                                                        '55714')]),\n                                                          OrderedDict([('@Type',\n                                                                        'ISSN'),\n                                                                       ('Name',\n                                                                        '10388761')])])])),\n                                          ('CatalogNum', '60922.00')]))]))])}"
     },
     "execution_count": 11,
     "metadata": {},
     "output_type": "execute_result"
    }
   ],
   "source": [
    "pq_xml.search('DFS/PubFrosting/*Title*')"
   ]
  },
  {
   "cell_type": "markdown",
   "source": [
    "Search anywhere for a tag"
   ],
   "metadata": {
    "collapsed": false,
    "pycharm": {
     "name": "#%% md\n"
    }
   }
  },
  {
   "cell_type": "code",
   "execution_count": 12,
   "outputs": [
    {
     "data": {
      "text/plain": "['/Obj/TitleAtt',\n '/Obj/TitleAtt/Title',\n '/DFS/PubFrosting/Title',\n '/DFS/PubFrosting/SortTitle',\n '/DFS/PubFrosting/CurrentTitle',\n '/DFS/PubFrosting/CurrentTitle/Title',\n '/DFS/PubFrosting/CurrentTitle/SortTitle']"
     },
     "execution_count": 12,
     "metadata": {},
     "output_type": "execute_result"
    }
   ],
   "source": [
    "pq_xml.search_all_tags('title')"
   ],
   "metadata": {
    "collapsed": false,
    "pycharm": {
     "name": "#%%\n"
    }
   }
  },
  {
   "cell_type": "markdown",
   "metadata": {},
   "source": [
    "Get the main article text (and remove HTML tags):"
   ]
  },
  {
   "cell_type": "code",
   "execution_count": 13,
   "metadata": {},
   "outputs": [
    {
     "name": "stdout",
     "output_type": "stream",
     "text": [
      " THEY are Australia's most expensive refugees. The Rahavans, a Sri Lankan family of five, most of whom journey\n"
     ]
    }
   ],
   "source": [
    "print(pq_xml.get_text()[:110])"
   ]
  },
  {
   "cell_type": "markdown",
   "metadata": {},
   "source": [
    "See the full nested structure with `pq_xml.show_all_tags()`, e.g.:\n",
    "\n",
    "```\n",
    "GOID\n",
    "Obj\n",
    "  SourceRollupType\n",
    "  ObjectTypes\n",
    "    other\n",
    "      @ObjectTypeOrigin\n",
    "      #text\n",
    "    mstar\n",
    "  ObjectRollupType\n",
    "  TitleAtt\n",
    "    Title\n",
    "```"
   ]
  }
 ],
 "metadata": {
  "kernelspec": {
   "display_name": "Python 3",
   "language": "python",
   "name": "python3"
  },
  "language_info": {
   "codemirror_mode": {
    "name": "ipython",
    "version": 3
   },
   "file_extension": ".py",
   "mimetype": "text/x-python",
   "name": "python",
   "nbconvert_exporter": "python",
   "pygments_lexer": "ipython3",
   "version": "3.7.7"
  }
 },
 "nbformat": 4,
 "nbformat_minor": 4
}