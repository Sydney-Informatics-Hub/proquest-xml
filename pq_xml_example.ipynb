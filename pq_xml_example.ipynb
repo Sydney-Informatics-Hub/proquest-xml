{
 "cells": [
  {
   "cell_type": "code",
   "execution_count": 1,
   "metadata": {},
   "outputs": [],
   "source": [
    "from proquest_xml import ProquestXml, create_dataframe"
   ]
  },
  {
   "cell_type": "markdown",
   "metadata": {},
   "source": [
    "## Read XML and get basic details"
   ]
  },
  {
   "cell_type": "code",
   "execution_count": 2,
   "metadata": {},
   "outputs": [
    {
     "name": "stdout",
     "output_type": "stream",
     "text": [
      "868650799 Million-dollar refugee family caught in perpetual detention\n"
     ]
    }
   ],
   "source": [
    "pq_xml = ProquestXml('data/hr_sample/868650799.xml')\n",
    "\n",
    "print(pq_xml.id, pq_xml.get_article_title())"
   ]
  },
  {
   "cell_type": "markdown",
   "metadata": {},
   "source": [
    "## Read multiple documents and create a dataframe"
   ]
  },
  {
   "cell_type": "code",
   "execution_count": 3,
   "metadata": {},
   "outputs": [
    {
     "data": {
      "text/html": [
       "<div>\n",
       "<style scoped>\n",
       "    .dataframe tbody tr th:only-of-type {\n",
       "        vertical-align: middle;\n",
       "    }\n",
       "\n",
       "    .dataframe tbody tr th {\n",
       "        vertical-align: top;\n",
       "    }\n",
       "\n",
       "    .dataframe thead th {\n",
       "        text-align: right;\n",
       "    }\n",
       "</style>\n",
       "<table border=\"1\" class=\"dataframe\">\n",
       "  <thead>\n",
       "    <tr style=\"text-align: right;\">\n",
       "      <th></th>\n",
       "      <th>id</th>\n",
       "      <th>title</th>\n",
       "      <th>date_published</th>\n",
       "      <th>publication</th>\n",
       "      <th>author_last_name</th>\n",
       "      <th>author_first_name</th>\n",
       "      <th>article_type</th>\n",
       "      <th>text</th>\n",
       "    </tr>\n",
       "  </thead>\n",
       "  <tbody>\n",
       "    <tr>\n",
       "      <th>0</th>\n",
       "      <td>879751809</td>\n",
       "      <td>Army officer claims stutter discrimination - E...</td>\n",
       "      <td>2011-07-29</td>\n",
       "      <td>The Australian</td>\n",
       "      <td>Callinan</td>\n",
       "      <td>Rory</td>\n",
       "      <td>News</td>\n",
       "      <td>A STUTTERING army officer has lodged a discri...</td>\n",
       "    </tr>\n",
       "    <tr>\n",
       "      <th>1</th>\n",
       "      <td>908016581</td>\n",
       "      <td>Aboriginal call for intervention on health nig...</td>\n",
       "      <td>2011-12-06</td>\n",
       "      <td>The Australian</td>\n",
       "      <td>Puddy</td>\n",
       "      <td>Rebecca</td>\n",
       "      <td>News</td>\n",
       "      <td>HUNDREDS of different laws across the country...</td>\n",
       "    </tr>\n",
       "    <tr>\n",
       "      <th>2</th>\n",
       "      <td>881503793</td>\n",
       "      <td>Amnesty says policy forcing Aborigines off the...</td>\n",
       "      <td>2011-08-09</td>\n",
       "      <td>Sydney Morning Herald</td>\n",
       "      <td>None</td>\n",
       "      <td>None</td>\n",
       "      <td>News</td>\n",
       "      <td>GOVERNMENT policies are driving Australian Ab...</td>\n",
       "    </tr>\n",
       "    <tr>\n",
       "      <th>3</th>\n",
       "      <td>914325855</td>\n",
       "      <td>There will be women in foxholes</td>\n",
       "      <td>2012-01-07</td>\n",
       "      <td>Sydney Morning Herald</td>\n",
       "      <td>Snow</td>\n",
       "      <td>Deborah</td>\n",
       "      <td>News</td>\n",
       "      <td>\"I was one of the first women to do the job I...</td>\n",
       "    </tr>\n",
       "    <tr>\n",
       "      <th>4</th>\n",
       "      <td>904162894</td>\n",
       "      <td>Afghan wins hearing into deportation</td>\n",
       "      <td>2011-11-17</td>\n",
       "      <td>Sydney Morning Herald</td>\n",
       "      <td>Needham</td>\n",
       "      <td>Kirsty</td>\n",
       "      <td>News</td>\n",
       "      <td>A CHALLENGE to the first forced deportation o...</td>\n",
       "    </tr>\n",
       "  </tbody>\n",
       "</table>\n",
       "</div>"
      ],
      "text/plain": [
       "          id                                              title  \\\n",
       "0  879751809  Army officer claims stutter discrimination - E...   \n",
       "1  908016581  Aboriginal call for intervention on health nig...   \n",
       "2  881503793  Amnesty says policy forcing Aborigines off the...   \n",
       "3  914325855                    There will be women in foxholes   \n",
       "4  904162894               Afghan wins hearing into deportation   \n",
       "\n",
       "  date_published            publication author_last_name author_first_name  \\\n",
       "0     2011-07-29         The Australian         Callinan              Rory   \n",
       "1     2011-12-06         The Australian            Puddy           Rebecca   \n",
       "2     2011-08-09  Sydney Morning Herald             None              None   \n",
       "3     2012-01-07  Sydney Morning Herald             Snow           Deborah   \n",
       "4     2011-11-17  Sydney Morning Herald          Needham            Kirsty   \n",
       "\n",
       "  article_type                                               text  \n",
       "0         News   A STUTTERING army officer has lodged a discri...  \n",
       "1         News   HUNDREDS of different laws across the country...  \n",
       "2         News   GOVERNMENT policies are driving Australian Ab...  \n",
       "3         News   \"I was one of the first women to do the job I...  \n",
       "4         News   A CHALLENGE to the first forced deportation o...  "
      ]
     },
     "execution_count": 3,
     "metadata": {},
     "output_type": "execute_result"
    }
   ],
   "source": [
    "import glob\n",
    "\n",
    "filenames = glob.glob('data/hr_sample/*.xml')[:5]\n",
    "docs = [ProquestXml(f) for f in filenames]\n",
    "df = create_dataframe(docs)\n",
    "\n",
    "df"
   ]
  },
  {
   "cell_type": "markdown",
   "metadata": {},
   "source": [
    "You can include extra fields in the dataframe by specifying their path in the nested structure:"
   ]
  },
  {
   "cell_type": "code",
   "execution_count": 13,
   "metadata": {},
   "outputs": [
    {
     "data": {
      "text/html": [
       "<div>\n",
       "<style scoped>\n",
       "    .dataframe tbody tr th:only-of-type {\n",
       "        vertical-align: middle;\n",
       "    }\n",
       "\n",
       "    .dataframe tbody tr th {\n",
       "        vertical-align: top;\n",
       "    }\n",
       "\n",
       "    .dataframe thead th {\n",
       "        text-align: right;\n",
       "    }\n",
       "</style>\n",
       "<table border=\"1\" class=\"dataframe\">\n",
       "  <thead>\n",
       "    <tr style=\"text-align: right;\">\n",
       "      <th></th>\n",
       "      <th>id</th>\n",
       "      <th>title</th>\n",
       "      <th>date_published</th>\n",
       "      <th>publication</th>\n",
       "      <th>author_last_name</th>\n",
       "      <th>author_first_name</th>\n",
       "      <th>article_type</th>\n",
       "      <th>text</th>\n",
       "      <th>language</th>\n",
       "      <th>terms</th>\n",
       "    </tr>\n",
       "  </thead>\n",
       "  <tbody>\n",
       "    <tr>\n",
       "      <th>0</th>\n",
       "      <td>868650799</td>\n",
       "      <td>Million-dollar refugee family caught in perpet...</td>\n",
       "      <td>2011-05-27</td>\n",
       "      <td>The Australian</td>\n",
       "      <td>Maley</td>\n",
       "      <td>Paul</td>\n",
       "      <td>News</td>\n",
       "      <td>THEY are Australia's most expensive refugees....</td>\n",
       "      <td>[{'RawLang': 'English'}, {'@IsPrimary': 'true'...</td>\n",
       "      <td>Immigration policy</td>\n",
       "    </tr>\n",
       "    <tr>\n",
       "      <th>1</th>\n",
       "      <td>879751809</td>\n",
       "      <td>Army officer claims stutter discrimination - E...</td>\n",
       "      <td>2011-07-29</td>\n",
       "      <td>The Australian</td>\n",
       "      <td>Callinan</td>\n",
       "      <td>Rory</td>\n",
       "      <td>News</td>\n",
       "      <td>A STUTTERING army officer has lodged a discri...</td>\n",
       "      <td>[{'RawLang': 'English'}, {'@IsPrimary': 'true'...</td>\n",
       "      <td>None</td>\n",
       "    </tr>\n",
       "    <tr>\n",
       "      <th>2</th>\n",
       "      <td>908016581</td>\n",
       "      <td>Aboriginal call for intervention on health nig...</td>\n",
       "      <td>2011-12-06</td>\n",
       "      <td>The Australian</td>\n",
       "      <td>Puddy</td>\n",
       "      <td>Rebecca</td>\n",
       "      <td>News</td>\n",
       "      <td>HUNDREDS of different laws across the country...</td>\n",
       "      <td>[{'RawLang': 'English'}, {'@IsPrimary': 'true'...</td>\n",
       "      <td>None</td>\n",
       "    </tr>\n",
       "    <tr>\n",
       "      <th>3</th>\n",
       "      <td>881503793</td>\n",
       "      <td>Amnesty says policy forcing Aborigines off the...</td>\n",
       "      <td>2011-08-09</td>\n",
       "      <td>Sydney Morning Herald</td>\n",
       "      <td>None</td>\n",
       "      <td>None</td>\n",
       "      <td>News</td>\n",
       "      <td>GOVERNMENT policies are driving Australian Ab...</td>\n",
       "      <td>[{'RawLang': 'English'}, {'@IsPrimary': 'true'...</td>\n",
       "      <td>None</td>\n",
       "    </tr>\n",
       "    <tr>\n",
       "      <th>4</th>\n",
       "      <td>914325855</td>\n",
       "      <td>There will be women in foxholes</td>\n",
       "      <td>2012-01-07</td>\n",
       "      <td>Sydney Morning Herald</td>\n",
       "      <td>Snow</td>\n",
       "      <td>Deborah</td>\n",
       "      <td>News</td>\n",
       "      <td>\"I was one of the first women to do the job I...</td>\n",
       "      <td>[{'RawLang': 'English'}, {'@IsPrimary': 'true'...</td>\n",
       "      <td>None</td>\n",
       "    </tr>\n",
       "    <tr>\n",
       "      <th>5</th>\n",
       "      <td>904162894</td>\n",
       "      <td>Afghan wins hearing into deportation</td>\n",
       "      <td>2011-11-17</td>\n",
       "      <td>Sydney Morning Herald</td>\n",
       "      <td>Needham</td>\n",
       "      <td>Kirsty</td>\n",
       "      <td>News</td>\n",
       "      <td>A CHALLENGE to the first forced deportation o...</td>\n",
       "      <td>[{'RawLang': 'English'}, {'@IsPrimary': 'true'...</td>\n",
       "      <td>None</td>\n",
       "    </tr>\n",
       "  </tbody>\n",
       "</table>\n",
       "</div>"
      ],
      "text/plain": [
       "          id                                              title  \\\n",
       "0  868650799  Million-dollar refugee family caught in perpet...   \n",
       "1  879751809  Army officer claims stutter discrimination - E...   \n",
       "2  908016581  Aboriginal call for intervention on health nig...   \n",
       "3  881503793  Amnesty says policy forcing Aborigines off the...   \n",
       "4  914325855                    There will be women in foxholes   \n",
       "5  904162894               Afghan wins hearing into deportation   \n",
       "\n",
       "  date_published            publication author_last_name author_first_name  \\\n",
       "0     2011-05-27         The Australian            Maley              Paul   \n",
       "1     2011-07-29         The Australian         Callinan              Rory   \n",
       "2     2011-12-06         The Australian            Puddy           Rebecca   \n",
       "3     2011-08-09  Sydney Morning Herald             None              None   \n",
       "4     2012-01-07  Sydney Morning Herald             Snow           Deborah   \n",
       "5     2011-11-17  Sydney Morning Herald          Needham            Kirsty   \n",
       "\n",
       "  article_type                                               text  \\\n",
       "0         News   THEY are Australia's most expensive refugees....   \n",
       "1         News   A STUTTERING army officer has lodged a discri...   \n",
       "2         News   HUNDREDS of different laws across the country...   \n",
       "3         News   GOVERNMENT policies are driving Australian Ab...   \n",
       "4         News   \"I was one of the first women to do the job I...   \n",
       "5         News   A CHALLENGE to the first forced deportation o...   \n",
       "\n",
       "                                            language               terms  \n",
       "0  [{'RawLang': 'English'}, {'@IsPrimary': 'true'...  Immigration policy  \n",
       "1  [{'RawLang': 'English'}, {'@IsPrimary': 'true'...                None  \n",
       "2  [{'RawLang': 'English'}, {'@IsPrimary': 'true'...                None  \n",
       "3  [{'RawLang': 'English'}, {'@IsPrimary': 'true'...                None  \n",
       "4  [{'RawLang': 'English'}, {'@IsPrimary': 'true'...                None  \n",
       "5  [{'RawLang': 'English'}, {'@IsPrimary': 'true'...                None  "
      ]
     },
     "execution_count": 13,
     "metadata": {},
     "output_type": "execute_result"
    }
   ],
   "source": [
    "extra_df = create_dataframe(\n",
    "    [pq_xml] + docs, # Some docs don't have the subject field so adding in pq_xml\n",
    "    extra_fields={\n",
    "        'language': 'Obj/Language',\n",
    "        'terms': 'Obj/Terms/GenSubjTerm/GenSubjValue'\n",
    "    })\n",
    "\n",
    "extra_df"
   ]
  },
  {
   "cell_type": "markdown",
   "metadata": {},
   "source": [
    "## Other features"
   ]
  },
  {
   "cell_type": "markdown",
   "metadata": {},
   "source": [
    "Allows item lookup like a dictionary:"
   ]
  },
  {
   "cell_type": "code",
   "execution_count": 5,
   "metadata": {},
   "outputs": [
    {
     "data": {
      "text/plain": [
       "'868650799'"
      ]
     },
     "execution_count": 5,
     "metadata": {},
     "output_type": "execute_result"
    }
   ],
   "source": [
    "pq_xml['GOID']"
   ]
  },
  {
   "cell_type": "markdown",
   "metadata": {},
   "source": [
    "Uses the `dpath` module to allow easy access into nested dictionaries and some basic searching:"
   ]
  },
  {
   "cell_type": "code",
   "execution_count": 10,
   "metadata": {},
   "outputs": [
    {
     "data": {
      "text/plain": [
       "'The Australian'"
      ]
     },
     "execution_count": 10,
     "metadata": {},
     "output_type": "execute_result"
    }
   ],
   "source": [
    "pq_xml.get('DFS/PubFrosting/Title')"
   ]
  },
  {
   "cell_type": "code",
   "execution_count": 11,
   "metadata": {},
   "outputs": [
    {
     "data": {
      "text/plain": [
       "{'DFS': OrderedDict([('PubFrosting',\n",
       "               OrderedDict([('Title', 'The Australian'),\n",
       "                            ('SortTitle', 'Australian The'),\n",
       "                            ('CurrentTitle',\n",
       "                             OrderedDict([('Title', 'The Australian'),\n",
       "                                          ('SortTitle', 'Australian The'),\n",
       "                                          ('Qualifier', 'Canberra, A.C.T.'),\n",
       "                                          ('EndIssueDate', '99991231'),\n",
       "                                          ('Locators',\n",
       "                                           OrderedDict([('Locator',\n",
       "                                                         [OrderedDict([('@Type',\n",
       "                                                                        'PQPMID'),\n",
       "                                                                       ('Name',\n",
       "                                                                        '55714')]),\n",
       "                                                          OrderedDict([('@Type',\n",
       "                                                                        'ISSN'),\n",
       "                                                                       ('Name',\n",
       "                                                                        '10388761')])])])),\n",
       "                                          ('CatalogNum', '60922.00')]))]))])}"
      ]
     },
     "execution_count": 11,
     "metadata": {},
     "output_type": "execute_result"
    }
   ],
   "source": [
    "pq_xml.search('DFS/PubFrosting/*Title*')"
   ]
  },
  {
   "cell_type": "markdown",
   "metadata": {},
   "source": [
    "Get the main article text (and remove HTML tags):"
   ]
  },
  {
   "cell_type": "code",
   "execution_count": 17,
   "metadata": {},
   "outputs": [
    {
     "name": "stdout",
     "output_type": "stream",
     "text": [
      " THEY are Australia's most expensive refugees. The Rahavans, a Sri Lankan family of five, most of whom journey\n"
     ]
    }
   ],
   "source": [
    "print(pq_xml.get_text()[:110])"
   ]
  },
  {
   "cell_type": "markdown",
   "metadata": {},
   "source": [
    "See the full nested structure with `show_all_keys()`, e.g.:\n",
    "\n",
    "```\n",
    "GOID\n",
    "Obj\n",
    "  SourceRollupType\n",
    "  ObjectTypes\n",
    "    other\n",
    "      @ObjectTypeOrigin\n",
    "      #text\n",
    "    mstar\n",
    "  ObjectRollupType\n",
    "  TitleAtt\n",
    "    Title\n",
    "```"
   ]
  }
 ],
 "metadata": {
  "kernelspec": {
   "display_name": "Python 3",
   "language": "python",
   "name": "python3"
  },
  "language_info": {
   "codemirror_mode": {
    "name": "ipython",
    "version": 3
   },
   "file_extension": ".py",
   "mimetype": "text/x-python",
   "name": "python",
   "nbconvert_exporter": "python",
   "pygments_lexer": "ipython3",
   "version": "3.7.7"
  }
 },
 "nbformat": 4,
 "nbformat_minor": 4
}
